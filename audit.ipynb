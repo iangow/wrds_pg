{
 "cells": [
  {
   "cell_type": "code",
   "execution_count": 3,
   "id": "704f863c-cab7-4c33-a1dd-54877437f204",
   "metadata": {
    "execution": {
     "iopub.execute_input": "2024-07-16T19:26:39.103909Z",
     "iopub.status.busy": "2024-07-16T19:26:39.103144Z",
     "iopub.status.idle": "2024-07-16T19:26:39.107673Z",
     "shell.execute_reply": "2024-07-16T19:26:39.106987Z",
     "shell.execute_reply.started": "2024-07-16T19:26:39.103872Z"
    }
   },
   "outputs": [],
   "source": [
    "from db2pq import db_schema_to_pq"
   ]
  },
  {
   "cell_type": "code",
   "execution_count": 5,
   "id": "df4e8439-53b5-4961-8962-8afc42cfa1c5",
   "metadata": {
    "execution": {
     "iopub.execute_input": "2024-07-16T19:27:46.559578Z",
     "iopub.status.busy": "2024-07-16T19:27:46.556653Z",
     "iopub.status.idle": "2024-07-16T19:27:46.574146Z",
     "shell.execute_reply": "2024-07-16T19:27:46.573317Z",
     "shell.execute_reply.started": "2024-07-16T19:27:46.559460Z"
    }
   },
   "outputs": [
    {
     "data": {
      "text/plain": [
       "\u001b[0;31mSignature:\u001b[0m\n",
       " \u001b[0mdb_schema_to_pq\u001b[0m\u001b[0;34m(\u001b[0m\u001b[0;34m\u001b[0m\n",
       "\u001b[0;34m\u001b[0m    \u001b[0mschema\u001b[0m\u001b[0;34m,\u001b[0m\u001b[0;34m\u001b[0m\n",
       "\u001b[0;34m\u001b[0m    \u001b[0muser\u001b[0m\u001b[0;34m=\u001b[0m\u001b[0;34m'root'\u001b[0m\u001b[0;34m,\u001b[0m\u001b[0;34m\u001b[0m\n",
       "\u001b[0;34m\u001b[0m    \u001b[0mhost\u001b[0m\u001b[0;34m=\u001b[0m\u001b[0;34m'localhost'\u001b[0m\u001b[0;34m,\u001b[0m\u001b[0;34m\u001b[0m\n",
       "\u001b[0;34m\u001b[0m    \u001b[0mdatabase\u001b[0m\u001b[0;34m=\u001b[0m\u001b[0;34m'igow'\u001b[0m\u001b[0;34m,\u001b[0m\u001b[0;34m\u001b[0m\n",
       "\u001b[0;34m\u001b[0m    \u001b[0mport\u001b[0m\u001b[0;34m=\u001b[0m\u001b[0;36m5432\u001b[0m\u001b[0;34m,\u001b[0m\u001b[0;34m\u001b[0m\n",
       "\u001b[0;34m\u001b[0m    \u001b[0mdata_dir\u001b[0m\u001b[0;34m=\u001b[0m\u001b[0;34m'/Users/igow/Library/CloudStorage/Dropbox/pq_data'\u001b[0m\u001b[0;34m,\u001b[0m\u001b[0;34m\u001b[0m\n",
       "\u001b[0;34m\u001b[0m    \u001b[0mrow_group_size\u001b[0m\u001b[0;34m=\u001b[0m\u001b[0;36m1048576\u001b[0m\u001b[0;34m,\u001b[0m\u001b[0;34m\u001b[0m\n",
       "\u001b[0;34m\u001b[0m    \u001b[0mbatched\u001b[0m\u001b[0;34m=\u001b[0m\u001b[0;32mTrue\u001b[0m\u001b[0;34m,\u001b[0m\u001b[0;34m\u001b[0m\n",
       "\u001b[0;34m\u001b[0m\u001b[0;34m)\u001b[0m\u001b[0;34m\u001b[0m\u001b[0;34m\u001b[0m\u001b[0m\n",
       "\u001b[0;31mDocstring:\u001b[0m\n",
       "Export all tables in a PostgreSQL table to parquet files.\n",
       "\n",
       "Parameters\n",
       "----------\n",
       "schema: \n",
       "    Name of database schema.\n",
       "\n",
       "user: string [Optional]\n",
       "    User role for the PostgreSQL database.\n",
       "    The default is to use the environment value `PGHOST`\n",
       "    or (if not set) user ID.\n",
       "\n",
       "host: string [Optional]\n",
       "    Host name for the PostgreSQL server.\n",
       "    The default is to use the environment value `PGHOST`.\n",
       "\n",
       "database: string [Optional]\n",
       "    Name for the PostgreSQL database.\n",
       "    The default is to use the environment value `PGDATABASE`\n",
       "    or (if not set) user ID.\n",
       "\n",
       "port: int [Optional]\n",
       "    Port for the PostgreSQL server.\n",
       "    The default is to use the environment value `PGPORT`\n",
       "    or (if not set) 5432.\n",
       "        \n",
       "data_dir: string [Optional]\n",
       "    Root directory of parquet data repository. \n",
       "    The default is to use the environment value `DATA_DIR` \n",
       "    or (if not set) the current directory.\n",
       "\n",
       "row_group_size: int [Optional]\n",
       "    Maximum number of rows in each written row group. \n",
       "    Default is `1024 * 1024`.    \n",
       "\n",
       "obs: Integer [Optional]\n",
       "    Number of observations to import from database table.\n",
       "    Implemented using SQL `LIMIT`.\n",
       "    Setting this to modest value (e.g., `obs=1000`) can be useful for testing\n",
       "    `db_to_pq()` with large tables.\n",
       "\n",
       "alt_table_name: string [Optional]\n",
       "    Basename of parquet file. Used when file should have different name from `table_name`.\n",
       "\n",
       "batched: bool [Optional]\n",
       "    Indicates whether data will be extracting in batches using\n",
       "    `to_pyarrow_batches()` instead of a single call to `to_pyarrow()`.\n",
       "    Using batches degrades performance slightly, but dramatically \n",
       "    reduces memory requirements for large tables.\n",
       "\n",
       "Returns\n",
       "-------\n",
       "pq_files: list of strings\n",
       "    Names of parquet files created.\n",
       "\n",
       "Examples\n",
       "----------\n",
       ">>> db_schema_to_pq(\"crsp\")\n",
       ">>> db_schema_to_pq(\"audit\")\n",
       "\u001b[0;31mFile:\u001b[0m      /Library/Frameworks/Python.framework/Versions/3.12/lib/python3.12/site-packages/db2pq/db2pq.py\n",
       "\u001b[0;31mType:\u001b[0m      function"
      ]
     },
     "metadata": {},
     "output_type": "display_data"
    }
   ],
   "source": [
    "? db_schema_to_pq"
   ]
  },
  {
   "cell_type": "code",
   "execution_count": 8,
   "id": "c9218839-67be-40ad-ab47-0b86c618e091",
   "metadata": {
    "execution": {
     "iopub.execute_input": "2024-07-17T00:32:27.297385Z",
     "iopub.status.busy": "2024-07-17T00:32:27.296694Z",
     "iopub.status.idle": "2024-07-17T00:33:08.696804Z",
     "shell.execute_reply": "2024-07-17T00:33:08.696490Z",
     "shell.execute_reply.started": "2024-07-17T00:32:27.297327Z"
    }
   },
   "outputs": [
    {
     "data": {
      "application/vnd.jupyter.widget-view+json": {
       "model_id": "fc826f80006a4466bb37cb0f2dc9d516",
       "version_major": 2,
       "version_minor": 0
      },
      "text/plain": [
       "FloatProgress(value=0.0, layout=Layout(width='auto'), style=ProgressStyle(bar_color='black'))"
      ]
     },
     "metadata": {},
     "output_type": "display_data"
    },
    {
     "data": {
      "application/vnd.jupyter.widget-view+json": {
       "model_id": "74468910499c4674a92bc253bdbb0134",
       "version_major": 2,
       "version_minor": 0
      },
      "text/plain": [
       "FloatProgress(value=0.0, layout=Layout(width='auto'), style=ProgressStyle(bar_color='black'))"
      ]
     },
     "metadata": {},
     "output_type": "display_data"
    },
    {
     "data": {
      "application/vnd.jupyter.widget-view+json": {
       "model_id": "8c9c694374ae4d40b194053305ab96df",
       "version_major": 2,
       "version_minor": 0
      },
      "text/plain": [
       "FloatProgress(value=0.0, layout=Layout(width='auto'), style=ProgressStyle(bar_color='black'))"
      ]
     },
     "metadata": {},
     "output_type": "display_data"
    },
    {
     "data": {
      "application/vnd.jupyter.widget-view+json": {
       "model_id": "4e860b88dba143ae9d5a57606235b8d4",
       "version_major": 2,
       "version_minor": 0
      },
      "text/plain": [
       "FloatProgress(value=0.0, layout=Layout(width='auto'), style=ProgressStyle(bar_color='black'))"
      ]
     },
     "metadata": {},
     "output_type": "display_data"
    },
    {
     "data": {
      "text/plain": [
       "['/Users/igow/Library/CloudStorage/Dropbox/pq_data/audit/feed01_auditors.parquet',\n",
       " '/Users/igow/Library/CloudStorage/Dropbox/pq_data/audit/feed02_auditor_changes.parquet',\n",
       " '/Users/igow/Library/CloudStorage/Dropbox/pq_data/audit/feed03_audit_fees.parquet',\n",
       " '/Users/igow/Library/CloudStorage/Dropbox/pq_data/audit/feed04_audit_fees_restated.parquet',\n",
       " '/Users/igow/Library/CloudStorage/Dropbox/pq_data/audit/feed06_benefit_plan_opinions.parquet',\n",
       " '/Users/igow/Library/CloudStorage/Dropbox/pq_data/audit/feed07_current_auditor.parquet',\n",
       " '/Users/igow/Library/CloudStorage/Dropbox/pq_data/audit/feed09_nonreliance_restatements.parquet',\n",
       " '/Users/igow/Library/CloudStorage/Dropbox/pq_data/audit/feed11_sox_404_internal_controls.parquet',\n",
       " '/Users/igow/Library/CloudStorage/Dropbox/pq_data/audit/feed13_legal_case_feed.parquet',\n",
       " '/Users/igow/Library/CloudStorage/Dropbox/pq_data/audit/feed14_company_legal_party_feed.parquet',\n",
       " '/Users/igow/Library/CloudStorage/Dropbox/pq_data/audit/feed16_accelerated_filer.parquet',\n",
       " '/Users/igow/Library/CloudStorage/Dropbox/pq_data/audit/feed17_director_and_officer_chan.parquet',\n",
       " '/Users/igow/Library/CloudStorage/Dropbox/pq_data/audit/feed18_merger_acquisition.parquet',\n",
       " '/Users/igow/Library/CloudStorage/Dropbox/pq_data/audit/feed19_ipo.parquet',\n",
       " '/Users/igow/Library/CloudStorage/Dropbox/pq_data/audit/feed20_nt.parquet',\n",
       " '/Users/igow/Library/CloudStorage/Dropbox/pq_data/audit/feed21_bankruptcy_notification.parquet',\n",
       " '/Users/igow/Library/CloudStorage/Dropbox/pq_data/audit/feed25_comment_letters.parquet',\n",
       " '/Users/igow/Library/CloudStorage/Dropbox/pq_data/audit/feed26_comment_letter_conversati.parquet',\n",
       " '/Users/igow/Library/CloudStorage/Dropbox/pq_data/audit/feed31_shareholder_activism.parquet',\n",
       " '/Users/igow/Library/CloudStorage/Dropbox/pq_data/audit/feed34_revised_audit_opinions.parquet',\n",
       " '/Users/igow/Library/CloudStorage/Dropbox/pq_data/audit/feed37_form_d.parquet',\n",
       " '/Users/igow/Library/CloudStorage/Dropbox/pq_data/audit/feed38_form_d_most_recent_offeri.parquet',\n",
       " '/Users/igow/Library/CloudStorage/Dropbox/pq_data/audit/feed40_comment_letter_threads.parquet',\n",
       " '/Users/igow/Library/CloudStorage/Dropbox/pq_data/audit/feed41_transfer_agents.parquet',\n",
       " '/Users/igow/Library/CloudStorage/Dropbox/pq_data/audit/feed55_auditor_ratification.parquet']"
      ]
     },
     "execution_count": 8,
     "metadata": {},
     "output_type": "execute_result"
    }
   ],
   "source": [
    "db_schema_to_pq(\"audit\", user=\"igow\")"
   ]
  },
  {
   "cell_type": "code",
   "execution_count": null,
   "id": "d6ede12d-02fd-4cbc-aa4e-363b8e5bbeae",
   "metadata": {},
   "outputs": [],
   "source": []
  }
 ],
 "metadata": {
  "kernelspec": {
   "display_name": "Python 3 (ipykernel)",
   "language": "python",
   "name": "python3"
  },
  "language_info": {
   "codemirror_mode": {
    "name": "ipython",
    "version": 3
   },
   "file_extension": ".py",
   "mimetype": "text/x-python",
   "name": "python",
   "nbconvert_exporter": "python",
   "pygments_lexer": "ipython3",
   "version": "3.12.4"
  }
 },
 "nbformat": 4,
 "nbformat_minor": 5
}
