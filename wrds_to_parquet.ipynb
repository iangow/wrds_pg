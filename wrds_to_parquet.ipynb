{
 "cells": [
  {
   "cell_type": "code",
   "execution_count": 1,
   "id": "ba0e48a4-b1b9-40e2-8970-c53ee2d469c5",
   "metadata": {},
   "outputs": [],
   "source": [
    "from wrds2pg import wrds_to_parquet"
   ]
  },
  {
   "cell_type": "code",
   "execution_count": 4,
   "id": "c4124edd-b30f-41b4-b932-b4ab8e2536b3",
   "metadata": {},
   "outputs": [
    {
     "name": "stdout",
     "output_type": "stream",
     "text": [
      "Getting data from WRDS.\n",
      "Saving data to temporary CSV.\n",
      "Converting CSV to /Users/iangow/Dropbox/pq_data/ibes/statsum_epsint.parquet.\n"
     ]
    },
    {
     "data": {
      "application/vnd.jupyter.widget-view+json": {
       "model_id": "3f948e4d1cff430a8ef91c3f653768c9",
       "version_major": 2,
       "version_minor": 0
      },
      "text/plain": [
       "FloatProgress(value=0.0, layout=Layout(width='auto'), style=ProgressStyle(bar_color='black'))"
      ]
     },
     "metadata": {},
     "output_type": "display_data"
    },
    {
     "data": {
      "text/plain": [
       "True"
      ]
     },
     "execution_count": 4,
     "metadata": {},
     "output_type": "execute_result"
    }
   ],
   "source": [
    "wrds_to_parquet(\"statsum_epsint\", \"ibes\", date_format=\"%d%b%Y\")"
   ]
  },
  {
   "cell_type": "code",
   "execution_count": 7,
   "id": "9b93f69d-02cd-4f28-af89-a58db3d2dd1f",
   "metadata": {},
   "outputs": [
    {
     "name": "stdout",
     "output_type": "stream",
     "text": [
      "Getting data from WRDS.\n",
      "Saving data to temporary CSV.\n",
      "Converting CSV to /Users/iangow/Dropbox/pq_data/comp/g_funda.parquet.\n"
     ]
    },
    {
     "data": {
      "application/vnd.jupyter.widget-view+json": {
       "model_id": "cff265c66e8c4b99b9852ecc7951e8f1",
       "version_major": 2,
       "version_minor": 0
      },
      "text/plain": [
       "FloatProgress(value=0.0, layout=Layout(width='auto'), style=ProgressStyle(bar_color='black'))"
      ]
     },
     "metadata": {},
     "output_type": "display_data"
    },
    {
     "data": {
      "text/plain": [
       "True"
      ]
     },
     "execution_count": 7,
     "metadata": {},
     "output_type": "execute_result"
    }
   ],
   "source": [
    "wrds_to_parquet(\"g_funda\", \"comp\")"
   ]
  }
 ],
 "metadata": {
  "kernelspec": {
   "display_name": "Python 3 (ipykernel)",
   "language": "python",
   "name": "python3"
  },
  "language_info": {
   "codemirror_mode": {
    "name": "ipython",
    "version": 3
   },
   "file_extension": ".py",
   "mimetype": "text/x-python",
   "name": "python",
   "nbconvert_exporter": "python",
   "pygments_lexer": "ipython3",
   "version": "3.11.3"
  }
 },
 "nbformat": 4,
 "nbformat_minor": 5
}
