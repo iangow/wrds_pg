{
 "cells": [
  {
   "cell_type": "code",
   "execution_count": 1,
   "id": "e4a78d50",
   "metadata": {
    "execution": {
     "iopub.execute_input": "2024-01-15T16:08:26.102177Z",
     "iopub.status.busy": "2024-01-15T16:08:26.101814Z",
     "iopub.status.idle": "2024-01-15T16:08:26.591889Z",
     "shell.execute_reply": "2024-01-15T16:08:26.591574Z",
     "shell.execute_reply.started": "2024-01-15T16:08:26.102151Z"
    }
   },
   "outputs": [],
   "source": [
    "from wrds2pg import make_engine, get_type_dict"
   ]
  },
  {
   "cell_type": "code",
   "execution_count": 2,
   "id": "60b45756-3710-4e92-b240-9a5b6f161e36",
   "metadata": {
    "execution": {
     "iopub.execute_input": "2024-01-15T16:08:27.313517Z",
     "iopub.status.busy": "2024-01-15T16:08:27.313068Z",
     "iopub.status.idle": "2024-01-15T16:08:27.391785Z",
     "shell.execute_reply": "2024-01-15T16:08:27.391491Z",
     "shell.execute_reply.started": "2024-01-15T16:08:27.313493Z"
    }
   },
   "outputs": [],
   "source": [
    "engine = make_engine()"
   ]
  },
  {
   "cell_type": "code",
   "execution_count": 3,
   "id": "d756756d-c5a0-4611-9c41-495e2dc8af80",
   "metadata": {
    "execution": {
     "iopub.execute_input": "2024-01-15T16:08:28.259832Z",
     "iopub.status.busy": "2024-01-15T16:08:28.259515Z",
     "iopub.status.idle": "2024-01-15T16:08:28.382459Z",
     "shell.execute_reply": "2024-01-15T16:08:28.382159Z",
     "shell.execute_reply.started": "2024-01-15T16:08:28.259809Z"
    }
   },
   "outputs": [
    {
     "data": {
      "text/plain": [
       "{'cusip': 'TEXT',\n",
       " 'permno': 'INTEGER',\n",
       " 'permco': 'INTEGER',\n",
       " 'issuno': 'INTEGER',\n",
       " 'hexcd': 'INTEGER',\n",
       " 'hsiccd': 'INTEGER',\n",
       " 'date': 'DATE',\n",
       " 'bidlo': 'DOUBLE PRECISION',\n",
       " 'askhi': 'DOUBLE PRECISION',\n",
       " 'prc': 'DOUBLE PRECISION',\n",
       " 'vol': 'INTEGER',\n",
       " 'ret': 'DOUBLE PRECISION',\n",
       " 'bid': 'DOUBLE PRECISION',\n",
       " 'ask': 'DOUBLE PRECISION',\n",
       " 'shrout': 'DOUBLE PRECISION',\n",
       " 'cfacpr': 'DOUBLE PRECISION',\n",
       " 'cfacshr': 'DOUBLE PRECISION',\n",
       " 'altprc': 'DOUBLE PRECISION',\n",
       " 'spread': 'DOUBLE PRECISION',\n",
       " 'altprcdt': 'DATE',\n",
       " 'retx': 'DOUBLE PRECISION'}"
      ]
     },
     "execution_count": 3,
     "metadata": {},
     "output_type": "execute_result"
    }
   ],
   "source": [
    "get_type_dict(\"msf\", \"crsp\", engine)"
   ]
  },
  {
   "cell_type": "code",
   "execution_count": null,
   "id": "96c5fb73-5b3e-4539-8683-834a28543fd9",
   "metadata": {},
   "outputs": [],
   "source": []
  }
 ],
 "metadata": {
  "kernelspec": {
   "display_name": "Python 3 (ipykernel)",
   "language": "python",
   "name": "python3"
  },
  "language_info": {
   "codemirror_mode": {
    "name": "ipython",
    "version": 3
   },
   "file_extension": ".py",
   "mimetype": "text/x-python",
   "name": "python",
   "nbconvert_exporter": "python",
   "pygments_lexer": "ipython3",
   "version": "3.11.7"
  }
 },
 "nbformat": 4,
 "nbformat_minor": 5
}
